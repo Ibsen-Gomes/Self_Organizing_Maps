{
 "cells": [
  {
   "cell_type": "markdown",
   "id": "284dc5cf",
   "metadata": {},
   "source": [
    "## Self-Organizing Maps\n",
    "\n",
    "The Self Organizing Maps developed by KOHONEN (1982) is a neural network, which mimics the functioning of the Cerebral Cortex, and characterized by being a single layer network. The figure below shows the topography of the Nueral Network, where we have the input samples, the Neural Network (Cortex) and the weights connecting each sample to each of the Nuronium Network.\n",
    "\n",
    "<img src=\"./figures/latent_space.png\"></img>\n",
    "\n",
    "Self Organization Maps (SOM) algorithm training is typically divided into two stages: competitive and cooperative. The figure below shows the dynamics between the SOM network and the samples (purple cloud).\n",
    "\n",
    "Competition: in this stage, the winning neuron with the best correspondence in relation to the input data is selected, figure (a).\n",
    "\n",
    "Cooperation: here, the weights of the winner are adapted, as well as those of the immediate neighboring neurons of the network, figure (b).\n",
    "\n",
    "After several iterations, the Neurons have new weights and the neural network manages to represent the samples, (figure c).\n",
    "\n",
    "\n",
    "<img src=\"./figures/algorithm.png\"></img>\n",
    "\n",
    "                   (a)                             (b)                              (c)\n"
   ]
  },
  {
   "cell_type": "markdown",
   "id": "47b048b5",
   "metadata": {},
   "source": [
    "## Algorithm\n",
    "\n",
    "The SOM algorithm can be described in the following steps:\n",
    "\n",
    "1. Initialize the neurons ($\\mathbf{w}$) in the parameter space\n",
    "\n",
    "2. Select a random sample of data ($\\mathbf{x}$): $\\mathbf{x}_n$\n",
    "\n",
    "3. Find the most similar neuron to this sample (best-matching unit, BMU)\n",
    "\n",
    "    $$BMU = \\underset{j}{\\arg \\min} \\left \\| \\mathbf{x}_n - \\mathbf{w}_j \\right \\|$$\n",
    "\n",
    "4. Adjust excited neurons:\n",
    "\n",
    "    $$\\Delta \\mathbf{w}^{n} = \\alpha(n) \\cdot h(D(\\mathbf{w}_{BMU},\\mathbf{w}), n) \\otimes (\\mathbf{ x}_n - \\mathbf{w}^{n})$$\n",
    "    $$\\mathbf{w}^{n+1} = \\mathbf{w}^{n} + \\Delta \\mathbf{w}^{n}$$\n",
    "\n",
    "5. Repeat from step 2 until reaching the stopping criterion\n",
    "\n",
    "Where $n$ is the algorithm step, $\\alpha$ is the learning rate and $h$ is the neighborhood function.\n"
   ]
  },
  {
   "cell_type": "code",
   "execution_count": null,
   "id": "7c2c4e71",
   "metadata": {},
   "outputs": [],
   "source": [
    "import numpy as np\n",
    "from math import sqrt\n",
    "import pandas as pd\n",
    "import scipy as sp\n",
    "from numpy.ma.core import ceil\n",
    "from scipy.spatial import distance\n",
    "from sklearn.preprocessing import MinMaxScaler \n",
    "from sklearn.model_selection import train_test_split\n",
    "from sklearn.metrics import accuracy_score \n",
    "from sklearn.metrics import confusion_matrix\n",
    "from sklearn.metrics import ConfusionMatrixDisplay\n",
    "import matplotlib.pyplot as plt\n",
    "from matplotlib import animation, colors\n",
    "import Self_Organizing_Maps\n"
   ]
  },
  {
   "cell_type": "code",
   "execution_count": null,
   "id": "e309d183",
   "metadata": {},
   "outputs": [],
   "source": [
    "# UTILIZAÇÃO DO APPYNHO PARA FAZER GRÁFICOS DE PERFIS:\n",
    "#---------------------\n",
    "import sys\n",
    "sys.path.insert(0,'modules')\n",
    "import imod\n",
    "from appynho_2 import plotagem as plm2"
   ]
  },
  {
   "cell_type": "markdown",
   "id": "417174f8",
   "metadata": {},
   "source": [
    "## Loading well-logging 1 for training:"
   ]
  },
  {
   "cell_type": "code",
   "execution_count": null,
   "id": "bfae0d0b",
   "metadata": {},
   "outputs": [],
   "source": [
    "cab = ['etiquetas','prof','rhob', 'gr', 'dt']\n",
    "data = pd.read_csv('arq2.txt', sep='\\s+',\n",
    "                     skiprows=1, names = cab, usecols=(0,1,2,3,4) )"
   ]
  },
  {
   "cell_type": "code",
   "execution_count": null,
   "id": "38b0c377",
   "metadata": {},
   "outputs": [],
   "source": [
    "data"
   ]
  },
  {
   "cell_type": "markdown",
   "id": "55975369",
   "metadata": {},
   "source": [
    "#### Distribution of data in crossplots:"
   ]
  },
  {
   "cell_type": "code",
   "execution_count": null,
   "id": "fecb3cd0",
   "metadata": {},
   "outputs": [],
   "source": [
    "plt.close('all')\n",
    "plt.figure(figsize=(6,5))\n",
    "\n",
    "plt.scatter(data['rhob'], data['gr'], s=70, alpha=1.0) \n",
    "\n",
    "plt.xlabel('RHOMB \\n $(g/cm^{3})$', fontsize = 12)\n",
    "plt.ylabel('GR \\n $(ci/g$)', fontsize = 12)\n",
    "plt.grid(True)\n",
    "plt.show()"
   ]
  },
  {
   "cell_type": "code",
   "execution_count": null,
   "id": "bb3aee71",
   "metadata": {},
   "outputs": [],
   "source": [
    "plt.close('all')\n",
    "plt.figure(figsize=(6,5))\n",
    "\n",
    "plt.scatter(data['rhob'], data['dt'], s=70, alpha=1.0) \n",
    "\n",
    "plt.xlabel('RHOMB \\n $(g/cm^{3})$', fontsize = 12)\n",
    "plt.ylabel('DT \\n $(\\mu s/m)$', fontsize = 12)\n",
    "plt.grid(True)\n",
    "plt.show()"
   ]
  },
  {
   "cell_type": "code",
   "execution_count": null,
   "id": "d3c09510",
   "metadata": {},
   "outputs": [],
   "source": [
    "plt.close('all')\n",
    "plt.figure(figsize=(6,5))\n",
    "\n",
    "plt.scatter(data['dt'], data['gr'], s=70, alpha=1.0) \n",
    "\n",
    "plt.xlabel('DT \\n $(\\mu s/m)$', fontsize = 12)\n",
    "plt.ylabel('GR \\n $(ci/g$)', fontsize = 12)\n",
    "plt.grid(True)\n",
    "plt.show()"
   ]
  },
  {
   "cell_type": "code",
   "execution_count": null,
   "id": "91d48337",
   "metadata": {},
   "outputs": [],
   "source": [
    "def order(x):\n",
    "    \"\"\"Cria uma lista começando do zero com o mesmo tamanho do dicionario\"\"\"\n",
    "    r= [0]\n",
    "    for i in range(x-1):\n",
    "        i=i+1\n",
    "        r.append(i)\n",
    "    return r\n",
    "    \n",
    "\n",
    "# Gerando a imagem do poço\n",
    "\n",
    "padrao={'comprimento':11,\n",
    "            'altura':14,\n",
    "        'titulo_geral': 'Synthetic well-loging data - Namorado field'\n",
    "         }\n",
    "\n",
    "\n",
    "#figure2 = plm2(3, padrao) \n",
    "figure2 = plm2(3, padrao)\n",
    "\n",
    "figure2.plot_s(0,data['rhob'],data['prof'],\n",
    "                   {'titulo':'RHOB \\n $(g/cm^{3})$','cor':'b',\n",
    "                    'descricao_y':'depth(m)',\n",
    "                    'descricao_x':'(a)'})\n",
    "\n",
    "figure2.plot_s(1,data['gr'],data['prof'],\n",
    "                   {'titulo':'GR \\n $(API)$','cor':'r','descricao_x':'(b)'})\n",
    "\n",
    "figure2.plot_s(2,data['dt'],data['prof'],\n",
    "                   {'titulo':'DT \\n $(\\mu s/ft)$','cor':'g','descricao_x':'(c)'})\n"
   ]
  },
  {
   "cell_type": "code",
   "execution_count": null,
   "id": "addac716",
   "metadata": {},
   "outputs": [],
   "source": [
    "data_x = np.zeros((len(data), 3))\n",
    "data_x.shape"
   ]
  },
  {
   "cell_type": "markdown",
   "id": "f44935fa",
   "metadata": {},
   "source": [
    "### Splitting data into training and labels:\n"
   ]
  },
  {
   "cell_type": "code",
   "execution_count": null,
   "id": "5bcf7e68",
   "metadata": {},
   "outputs": [],
   "source": [
    "data_x[:,0] = Self_Organizing_Maps.norm_data(data['rhob'])\n",
    "data_x[:,1] = Self_Organizing_Maps.norm_data(data['gr'])\n",
    "data_x[:,2] = Self_Organizing_Maps.norm_data(data['dt'])\n",
    "data_x"
   ]
  },
  {
   "cell_type": "code",
   "execution_count": null,
   "id": "d2a73df8",
   "metadata": {},
   "outputs": [],
   "source": [
    "data_y = np.array(data['etiquetas'])"
   ]
  },
  {
   "cell_type": "code",
   "execution_count": null,
   "id": "d4f5f2af",
   "metadata": {},
   "outputs": [],
   "source": [
    "# train and test split\n",
    "train_x, test_x, train_y, test_y = train_test_split(data_x, data_y, test_size=0.2, random_state=42)\n",
    "print(train_x.shape, train_y.shape, test_x.shape, test_y.shape) # check the shapes"
   ]
  },
  {
   "cell_type": "markdown",
   "id": "e655a319",
   "metadata": {},
   "source": [
    "### Using the SOM function from \".py\" file:"
   ]
  },
  {
   "cell_type": "code",
   "execution_count": null,
   "id": "6f958f3c",
   "metadata": {},
   "outputs": [],
   "source": [
    "# hyperparameters\n",
    "n_rows = 12\n",
    "n_cols = 12\n",
    "max_distance = 3.\n",
    "max_learning_rate = 1 #0.5\n",
    "max_epochs = int(2000)\n",
    "t = np.random.randint(0,high=train_x.shape[0]) # random index of traing data"
   ]
  },
  {
   "cell_type": "markdown",
   "id": "ed60fb5d",
   "metadata": {},
   "source": [
    "#### Applying SOM with 3 different settings in metric and neighborhood"
   ]
  },
  {
   "cell_type": "markdown",
   "id": "87a4f06c",
   "metadata": {},
   "source": [
    "#### SOM with Euclidean metrics and linear neighborhood:"
   ]
  },
  {
   "cell_type": "code",
   "execution_count": null,
   "id": "1ed4b7c1",
   "metadata": {},
   "outputs": [],
   "source": [
    "# \"SOM_train\" performs the competition, cooperation and updating\n",
    "# of the neurons using the training data.\n",
    "# It returns the weight of neurons updated after iterations, \n",
    "# stored in the variable \"updated_som1\".\n",
    "\n",
    "updated_som1 = Self_Organizing_Maps.SOM_train(n_rows, \n",
    "                                              n_cols, \n",
    "                                              max_epochs, \n",
    "                                              max_learning_rate, \n",
    "                                              max_distance, \n",
    "                                              train_x, \n",
    "                                              train_y, \n",
    "                                              learn='linear', \n",
    "                                              neigh='linear', \n",
    "                                              metric='euclidian')"
   ]
  },
  {
   "cell_type": "code",
   "execution_count": null,
   "id": "49e764b8",
   "metadata": {},
   "outputs": [],
   "source": [
    "# \"Cortex_map\" shows the final Cortex showing the formed neighborhoods (same colors),\n",
    "# using the adjusted weights \"updated_som1\"\n",
    "\n",
    "label_map1 = Self_Organizing_Maps.Cortex_map(train_y, \n",
    "                                             train_x, \n",
    "                                             updated_som1,\n",
    "                                             max_epochs, \n",
    "                                             metric='euclidian')"
   ]
  },
  {
   "cell_type": "code",
   "execution_count": null,
   "id": "148dbdf5",
   "metadata": {},
   "outputs": [],
   "source": [
    "# \"SOM_class\" classifies test data from step learning with \"SOM_train\". \n",
    "# Using association between neuron weight labels (updated_som1 + label_map1) and \n",
    "# test data property values (test_x).\n",
    "\n",
    "index1 = Self_Organizing_Maps.SOM_class(test_x, \n",
    "                                        updated_som1, \n",
    "                                        label_map1, \n",
    "                                        metric='euclidian')"
   ]
  },
  {
   "cell_type": "code",
   "execution_count": null,
   "id": "98de7014",
   "metadata": {},
   "outputs": [],
   "source": [
    "# \"Crossplot\" classification of data using two properties\n",
    "\n",
    "Self_Organizing_Maps.Crossplot(index1, test_x, 0, 1)"
   ]
  },
  {
   "cell_type": "code",
   "execution_count": null,
   "id": "280d1ef2",
   "metadata": {},
   "outputs": [],
   "source": [
    "# \"Confusion matrix\" shows how well the test data was classified. \n",
    "# The more diagonal, means the better the classification \n",
    "# (comparison between actual and predicted labels)\n",
    "\n",
    "conf_matrix = confusion_matrix(test_y, index1)\n",
    "vis = ConfusionMatrixDisplay(confusion_matrix=conf_matrix) #, display_labels=ind)\n",
    "vis.plot(cmap='inferno')\n",
    "plt.title('Confusion Matrix')\n",
    "plt.show()"
   ]
  },
  {
   "cell_type": "markdown",
   "id": "5f7cea34",
   "metadata": {},
   "source": [
    "#### SOM with Euclidean metric and Gaussian neighborhood:"
   ]
  },
  {
   "cell_type": "code",
   "execution_count": null,
   "id": "94d36d50",
   "metadata": {},
   "outputs": [],
   "source": [
    "# \"SOM_train\" performs the competition, cooperation and updating\n",
    "# of the neurons using the training data.\n",
    "# It returns the weight of neurons updated after iterations, \n",
    "# stored in the variable \"updated_som2\".\n",
    "\n",
    "updated_som2 = Self_Organizing_Maps.SOM_train(n_rows, \n",
    "                                              n_cols, \n",
    "                                              max_epochs, \n",
    "                                              max_learning_rate, \n",
    "                                              max_distance, \n",
    "                                              train_x, \n",
    "                                              train_y, \n",
    "                                              learn='linear', \n",
    "                                              neigh='gaussian', \n",
    "                                              metric='euclidian')"
   ]
  },
  {
   "cell_type": "code",
   "execution_count": null,
   "id": "7fe0a3ad",
   "metadata": {},
   "outputs": [],
   "source": [
    "# \"Cortex_map\" shows the final Cortex showing the formed neighborhoods (same colors),\n",
    "# using the adjusted weights \"updated_som2\"\n",
    "\n",
    "label_map2 = Self_Organizing_Maps.Cortex_map(train_y, \n",
    "                                             train_x, \n",
    "                                             updated_som2,\n",
    "                                             max_epochs, \n",
    "                                             metric='euclidian')"
   ]
  },
  {
   "cell_type": "code",
   "execution_count": null,
   "id": "b1e1324a",
   "metadata": {},
   "outputs": [],
   "source": [
    "# \"SOM_class\" classifies test data from step learning with \"SOM_train\". \n",
    "# Using association between neuron weight labels (updated_som2 + label_map2) and \n",
    "# test data property values (test_x).\n",
    "\n",
    "index2 = Self_Organizing_Maps.SOM_class(test_x, \n",
    "                                        updated_som2, \n",
    "                                        label_map2, \n",
    "                                        metric='euclidian')"
   ]
  },
  {
   "cell_type": "code",
   "execution_count": null,
   "id": "994f2330",
   "metadata": {},
   "outputs": [],
   "source": [
    "# \"Crossplot\" classification of data using two properties\n",
    "\n",
    "Self_Organizing_Maps.Crossplot(index2, test_x, 0, 1)"
   ]
  },
  {
   "cell_type": "code",
   "execution_count": null,
   "id": "f8de5d33",
   "metadata": {},
   "outputs": [],
   "source": [
    "# \"Confusion matrix\" shows how well the test data was classified. \n",
    "# The more diagonal, means the better the classification \n",
    "# (comparison between actual and predicted labels)\n",
    "\n",
    "conf_matrix = confusion_matrix(test_y, index2)\n",
    "vis = ConfusionMatrixDisplay(confusion_matrix=conf_matrix) #, display_labels=ind)\n",
    "vis.plot(cmap='inferno')\n",
    "plt.title('Confusion Matrix')\n",
    "plt.show()"
   ]
  },
  {
   "cell_type": "markdown",
   "id": "be9295e8",
   "metadata": {},
   "source": [
    "#### SOM with Manhattan metric and linear neighborhood:"
   ]
  },
  {
   "cell_type": "code",
   "execution_count": null,
   "id": "ebad0390",
   "metadata": {},
   "outputs": [],
   "source": [
    "# \"SOM_train\" performs the competition, cooperation and updating\n",
    "# of the neurons using the training data.\n",
    "# It returns the weight of neurons updated after iterations, \n",
    "# stored in the variable \"updated_som3\".\n",
    "\n",
    "updated_som3 = Self_Organizing_Maps.SOM_train(n_rows, \n",
    "                                              n_cols, \n",
    "                                              max_epochs, \n",
    "                                              max_learning_rate, \n",
    "                                              max_distance, \n",
    "                                              train_x, \n",
    "                                              train_y, \n",
    "                                              learn='linear', \n",
    "                                              neigh='linear', \n",
    "                                              metric='manhattan')"
   ]
  },
  {
   "cell_type": "code",
   "execution_count": null,
   "id": "dfdafdea",
   "metadata": {},
   "outputs": [],
   "source": [
    "# \"Cortex_map\" shows the final Cortex showing the formed neighborhoods (same colors),\n",
    "# using the adjusted weights \"updated_som3\"\n",
    "\n",
    "label_map3 = Self_Organizing_Maps.Cortex_map(train_y, \n",
    "                                             train_x, \n",
    "                                             updated_som3,\n",
    "                                             max_epochs, \n",
    "                                             metric='manhattan')"
   ]
  },
  {
   "cell_type": "code",
   "execution_count": null,
   "id": "f0f2aa12",
   "metadata": {},
   "outputs": [],
   "source": [
    "# \"SOM_class\" classifies test data from step learning with \"SOM_train\". \n",
    "# Using association between neuron weight labels (updated_som3 + label_map3) and \n",
    "# test data property values (test_x).\n",
    "\n",
    "index3 = Self_Organizing_Maps.SOM_class(test_x, \n",
    "                                        updated_som3, \n",
    "                                        label_map3, \n",
    "                                        metric='manhattan')"
   ]
  },
  {
   "cell_type": "code",
   "execution_count": null,
   "id": "082fc8ed",
   "metadata": {},
   "outputs": [],
   "source": [
    "# \"Crossplot\" classification of data using two properties\n",
    "\n",
    "Self_Organizing_Maps.Crossplot(index3, test_x, 0, 1)"
   ]
  },
  {
   "cell_type": "code",
   "execution_count": null,
   "id": "d55829d6",
   "metadata": {},
   "outputs": [],
   "source": [
    "# \"Confusion matrix\" shows how well the test data was classified. \n",
    "# The more diagonal, means the better the classification \n",
    "# (comparison between actual and predicted labels)\n",
    "\n",
    "conf_matrix = confusion_matrix(test_y, index3)\n",
    "vis = ConfusionMatrixDisplay(confusion_matrix=conf_matrix) #, display_labels=ind)\n",
    "vis.plot(cmap='inferno')\n",
    "plt.title('Confusion Matrix')\n",
    "plt.show()"
   ]
  },
  {
   "cell_type": "code",
   "execution_count": null,
   "id": "fb6e82da",
   "metadata": {},
   "outputs": [],
   "source": []
  },
  {
   "cell_type": "markdown",
   "id": "a526228f",
   "metadata": {},
   "source": [
    "## Loading of well-logging 2 for classification:"
   ]
  },
  {
   "cell_type": "code",
   "execution_count": null,
   "id": "c00f2586",
   "metadata": {},
   "outputs": [],
   "source": [
    "cab = ['prof','rhob', 'gr', 'dt']\n",
    "data_2 = pd.read_csv('arq4_09-05.txt', sep='\\s+',\n",
    "                     skiprows=1, names = cab, usecols=(0,1,2,3) )"
   ]
  },
  {
   "cell_type": "code",
   "execution_count": null,
   "id": "52bfb164",
   "metadata": {},
   "outputs": [],
   "source": [
    "data_class = np.zeros((len(data_2), 3))\n",
    "data_class.shape"
   ]
  },
  {
   "cell_type": "code",
   "execution_count": null,
   "id": "c99d6dc9",
   "metadata": {},
   "outputs": [],
   "source": [
    "### Data normalization:\n",
    "\n",
    "data_class[:,0] = Self_Organizing_Maps.norm_data(data_2['rhob'])\n",
    "data_class[:,1] = Self_Organizing_Maps.norm_data(data_2['gr'])\n",
    "data_class[:,2] = Self_Organizing_Maps.norm_data(data_2['dt'])\n",
    "data_class"
   ]
  },
  {
   "cell_type": "markdown",
   "id": "87dc791e",
   "metadata": {},
   "source": [
    "#### Using Cortex from the training step:"
   ]
  },
  {
   "cell_type": "code",
   "execution_count": null,
   "id": "87a59a19",
   "metadata": {},
   "outputs": [],
   "source": [
    "# Using \"SOM_class\" to classify test data. \n",
    "# The comparison is now made between the \n",
    "# weights and properties of the new well-log data\n",
    "\n",
    "index = Self_Organizing_Maps.SOM_class(data_class, \n",
    "                                        updated_som2, \n",
    "                                        label_map2, \n",
    "                                        metric='euclidian')"
   ]
  },
  {
   "cell_type": "code",
   "execution_count": null,
   "id": "babeb53e",
   "metadata": {},
   "outputs": [],
   "source": [
    "# \"Crossplot\" classification of data (well-log 2) using two properties \n",
    "\n",
    "Self_Organizing_Maps.Crossplot(index, data_class, 0, 1)"
   ]
  },
  {
   "cell_type": "code",
   "execution_count": null,
   "id": "8931899f",
   "metadata": {},
   "outputs": [],
   "source": [
    "np.size(index)"
   ]
  },
  {
   "cell_type": "markdown",
   "id": "92d844f8",
   "metadata": {},
   "source": [
    "### Image with the original groups formed by synthetic data modeling for comparison:\n",
    "\n",
    "##### -> different colors but the formed groups are similar!\n",
    "\n",
    "##### -> plot below is not normalized!"
   ]
  },
  {
   "cell_type": "code",
   "execution_count": null,
   "id": "488fdb1c",
   "metadata": {},
   "outputs": [],
   "source": [
    "from PIL import Image\n",
    "\n",
    "image = Image.open('RHOxGR_p2originaldisper_09-05.png')"
   ]
  },
  {
   "cell_type": "code",
   "execution_count": null,
   "id": "22bc9aa3",
   "metadata": {},
   "outputs": [],
   "source": [
    "image"
   ]
  },
  {
   "cell_type": "code",
   "execution_count": null,
   "id": "e66be0b5",
   "metadata": {},
   "outputs": [],
   "source": []
  },
  {
   "cell_type": "code",
   "execution_count": null,
   "id": "9cf8018e",
   "metadata": {},
   "outputs": [],
   "source": [
    "dicio = {0: ['#440154', 'label 0', 221,160,221, 255],\n",
    "         1: ['#fde725', 'label 1', 153,50,204, 255],\n",
    "         2: ['#3b528b', 'label 2', 0,0,128, 255], \n",
    "         3: ['#21908c', 'label 3', 75,0,130, 255], \n",
    "         4: ['#5dc863', 'label 4', 148,0,211, 255],\n",
    "         5: ['#472d7b', 'label 5', 255,0,255, 255], \n",
    "         }"
   ]
  },
  {
   "cell_type": "code",
   "execution_count": null,
   "id": "42d3402c",
   "metadata": {},
   "outputs": [],
   "source": [
    "def order(x):\n",
    "    \"\"\"Cria uma lista começando do zero com o mesmo tamanho do dicionario\"\"\"\n",
    "    r= [0]\n",
    "    for i in range(x-1):\n",
    "        i=i+1\n",
    "        r.append(i)\n",
    "    return r\n",
    "    \n",
    "\n",
    "padrao={'comprimento':11,\n",
    "            'altura':14,\n",
    "        'titulo_geral': 'Classification Self-Organizing Maps for Synthetic Well-logging data - Namorado field'\n",
    "         }\n",
    "\n",
    "figure2 = plm2(4, padrao) \n",
    "\n",
    "figure2.plot_l2(0,np.array(index), np.array(data_2['prof']), \n",
    "                dicio,{'titulo':'Classification in Lithofacies',\n",
    "                       'descricao_y':'depth(m)','descricao_x':'(a)'})\n",
    "\n",
    "figure2.plot_s(1,data_2['rhob'],data_2['prof'],\n",
    "               {'titulo':'RHOB \\n $(g/cm^{3})$','cor':'b','descricao_x':'(b)'})\n",
    "\n",
    "figure2.plot_s(2,data_2['gr'],data_2['prof'],\n",
    "               {'titulo':'GR \\n $(API)$','cor':'r','descricao_x':'(c)'})\n",
    "\n",
    "figure2.plot_s(3,data_2['dt'],data_2['prof'],\n",
    "               {'titulo':'DT \\n $(\\mu s/ft)$','cor':'g','descricao_x':'(d)'})\n",
    "\n",
    "figure2.legenda({'ancoragem':(0.05, 0.08, 4.5, -0.15),'colunas':6,'ordem':order(len(dicio)) })"
   ]
  },
  {
   "cell_type": "markdown",
   "id": "ff08c099",
   "metadata": {},
   "source": [
    "#### Note: here the labels are numbers from 0 to 5 but, with some modifications, the labels can also be lithologies (Shale, Sandstone, ...)."
   ]
  },
  {
   "cell_type": "markdown",
   "id": "474e121b",
   "metadata": {},
   "source": [
    "### END"
   ]
  }
 ],
 "metadata": {
  "kernelspec": {
   "display_name": "Python 3 (ipykernel)",
   "language": "python",
   "name": "python3"
  },
  "language_info": {
   "codemirror_mode": {
    "name": "ipython",
    "version": 3
   },
   "file_extension": ".py",
   "mimetype": "text/x-python",
   "name": "python",
   "nbconvert_exporter": "python",
   "pygments_lexer": "ipython3",
   "version": "3.10.9"
  }
 },
 "nbformat": 4,
 "nbformat_minor": 5
}
