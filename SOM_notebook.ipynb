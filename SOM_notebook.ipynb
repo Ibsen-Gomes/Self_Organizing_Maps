{
 "cells": [
  {
   "cell_type": "markdown",
   "id": "b3624ac9",
   "metadata": {},
   "source": [
    "# Self-Organizing Maps"
   ]
  },
  {
   "cell_type": "markdown",
   "id": "eba9e478",
   "metadata": {},
   "source": [
    "\n",
    "Uma rede neural de apenas um layer\n",
    "Competição e cooperação\n",
    "\n",
    "<img src=\"./figures/latent_space.png\"></img>\n",
    "\n",
    "<img src=\"./figures/algorithm.png\"></img>\n",
    "\n",
    "<img src=\"./figures/algorithm.gif\"></img>\n",
    "\n"
   ]
  },
  {
   "cell_type": "code",
   "execution_count": null,
   "id": "0232916e",
   "metadata": {},
   "outputs": [],
   "source": [
    "import numpy as np\n",
    "from math import sqrt\n",
    "import pandas as pd\n",
    "import scipy as sp\n",
    "from numpy.ma.core import ceil\n",
    "from scipy.spatial import distance\n",
    "from sklearn.preprocessing import MinMaxScaler \n",
    "from sklearn.model_selection import train_test_split\n",
    "from sklearn.metrics import accuracy_score \n",
    "from sklearn.metrics import confusion_matrix\n",
    "from sklearn.metrics import ConfusionMatrixDisplay\n",
    "import matplotlib.pyplot as plt\n",
    "from matplotlib import animation, colors\n",
    "import Self_Organizing_Maps"
   ]
  },
  {
   "cell_type": "markdown",
   "id": "417174f8",
   "metadata": {},
   "source": [
    "## Loading well-log 1 for training:"
   ]
  },
  {
   "cell_type": "code",
   "execution_count": null,
   "id": "bfae0d0b",
   "metadata": {},
   "outputs": [],
   "source": [
    "cab = ['etiquetas','prof','rhob', 'gr', 'dt']\n",
    "data = pd.read_csv('arq2.txt', sep='\\s+',\n",
    "                     skiprows=1, names = cab, usecols=(0,1,2,3,4) )"
   ]
  },
  {
   "cell_type": "code",
   "execution_count": null,
   "id": "38b0c377",
   "metadata": {},
   "outputs": [],
   "source": [
    "data"
   ]
  },
  {
   "cell_type": "markdown",
   "id": "55975369",
   "metadata": {},
   "source": [
    "#### Distribution of data in crossplots:"
   ]
  },
  {
   "cell_type": "code",
   "execution_count": null,
   "id": "fecb3cd0",
   "metadata": {},
   "outputs": [],
   "source": [
    "plt.close('all')\n",
    "plt.figure(figsize=(6,5))\n",
    "\n",
    "plt.scatter(data['rhob'], data['gr'], s=70, alpha=1.0) \n",
    "\n",
    "plt.xlabel('RHOMB \\n $(g/cm^{3})$', fontsize = 12)\n",
    "plt.ylabel('GR \\n $(ci/g$)', fontsize = 12)\n",
    "plt.grid(True)\n",
    "plt.show()"
   ]
  },
  {
   "cell_type": "code",
   "execution_count": null,
   "id": "bb3aee71",
   "metadata": {},
   "outputs": [],
   "source": [
    "plt.close('all')\n",
    "plt.figure(figsize=(6,5))\n",
    "\n",
    "plt.scatter(data['rhob'], data['dt'], s=70, alpha=1.0) \n",
    "\n",
    "plt.xlabel('RHOMB \\n $(g/cm^{3})$', fontsize = 12)\n",
    "plt.ylabel('DT \\n $(\\mu s/m)$', fontsize = 12)\n",
    "plt.grid(True)\n",
    "plt.show()"
   ]
  },
  {
   "cell_type": "code",
   "execution_count": null,
   "id": "d3c09510",
   "metadata": {},
   "outputs": [],
   "source": [
    "plt.close('all')\n",
    "plt.figure(figsize=(6,5))\n",
    "\n",
    "plt.scatter(data['dt'], data['gr'], s=70, alpha=1.0) \n",
    "\n",
    "plt.xlabel('DT \\n $(\\mu s/m)$', fontsize = 12)\n",
    "plt.ylabel('GR \\n $(ci/g$)', fontsize = 12)\n",
    "plt.grid(True)\n",
    "plt.show()"
   ]
  },
  {
   "cell_type": "code",
   "execution_count": null,
   "id": "addac716",
   "metadata": {},
   "outputs": [],
   "source": [
    "data_x = np.zeros((len(data), 3))\n",
    "data_x.shape"
   ]
  },
  {
   "cell_type": "markdown",
   "id": "f44935fa",
   "metadata": {},
   "source": [
    "### Splitting data into training and labels:\n"
   ]
  },
  {
   "cell_type": "code",
   "execution_count": null,
   "id": "5bcf7e68",
   "metadata": {},
   "outputs": [],
   "source": [
    "data_x[:,0] = Self_Organizing_Maps.norm_data(data['rhob'])\n",
    "data_x[:,1] = Self_Organizing_Maps.norm_data(data['gr'])\n",
    "data_x[:,2] = Self_Organizing_Maps.norm_data(data['dt'])\n",
    "data_x"
   ]
  },
  {
   "cell_type": "code",
   "execution_count": null,
   "id": "d2a73df8",
   "metadata": {},
   "outputs": [],
   "source": [
    "data_y = np.array(data['etiquetas'])"
   ]
  },
  {
   "cell_type": "code",
   "execution_count": null,
   "id": "d4f5f2af",
   "metadata": {},
   "outputs": [],
   "source": [
    "# train and test split\n",
    "train_x, test_x, train_y, test_y = train_test_split(data_x, data_y, test_size=0.2, random_state=42)\n",
    "print(train_x.shape, train_y.shape, test_x.shape, test_y.shape) # check the shapes"
   ]
  },
  {
   "cell_type": "markdown",
   "id": "e655a319",
   "metadata": {},
   "source": [
    "### Using the SOM function from \".py\" file:"
   ]
  },
  {
   "cell_type": "code",
   "execution_count": null,
   "id": "6f958f3c",
   "metadata": {},
   "outputs": [],
   "source": [
    "# hyperparameters\n",
    "n_rows = 12\n",
    "n_cols = 12\n",
    "max_distance = 3.\n",
    "max_learning_rate = 1 #0.5\n",
    "max_epochs = int(2000)\n",
    "t = np.random.randint(0,high=train_x.shape[0]) # random index of traing data"
   ]
  },
  {
   "cell_type": "markdown",
   "id": "87a4f06c",
   "metadata": {},
   "source": [
    "#### SOM with Euclidean metrics and linear neighborhood:"
   ]
  },
  {
   "cell_type": "code",
   "execution_count": null,
   "id": "1ed4b7c1",
   "metadata": {},
   "outputs": [],
   "source": [
    "updated_som1 = Self_Organizing_Maps.SOM_train(n_rows, \n",
    "                                              n_cols, \n",
    "                                              max_epochs, \n",
    "                                              max_learning_rate, \n",
    "                                              max_distance, \n",
    "                                              train_x, \n",
    "                                              train_y, \n",
    "                                              learn='linear', \n",
    "                                              neigh='linear', \n",
    "                                              metric='euclidian')"
   ]
  },
  {
   "cell_type": "code",
   "execution_count": null,
   "id": "49e764b8",
   "metadata": {},
   "outputs": [],
   "source": [
    "label_map1 = Self_Organizing_Maps.Cortex_map(train_y, \n",
    "                                             train_x, \n",
    "                                             updated_som1,\n",
    "                                             max_epochs, \n",
    "                                             metric='euclidian')"
   ]
  },
  {
   "cell_type": "code",
   "execution_count": null,
   "id": "148dbdf5",
   "metadata": {},
   "outputs": [],
   "source": [
    "index1 = Self_Organizing_Maps.SOM_class(test_x, \n",
    "                                        updated_som1, \n",
    "                                        label_map1, \n",
    "                                        metric='euclidian')"
   ]
  },
  {
   "cell_type": "code",
   "execution_count": null,
   "id": "98de7014",
   "metadata": {},
   "outputs": [],
   "source": [
    "Self_Organizing_Maps.Crossplot(index1, test_x, 0, 1)"
   ]
  },
  {
   "cell_type": "code",
   "execution_count": null,
   "id": "280d1ef2",
   "metadata": {},
   "outputs": [],
   "source": [
    "conf_matrix = confusion_matrix(test_y, index1)\n",
    "vis = ConfusionMatrixDisplay(confusion_matrix=conf_matrix) #, display_labels=ind)\n",
    "vis.plot(cmap='inferno')\n",
    "plt.title('Confusion Matrix')\n",
    "plt.show()"
   ]
  },
  {
   "cell_type": "markdown",
   "id": "5f7cea34",
   "metadata": {},
   "source": [
    "#### SOM with Euclidean metric and Gaussian neighborhood:"
   ]
  },
  {
   "cell_type": "code",
   "execution_count": null,
   "id": "94d36d50",
   "metadata": {},
   "outputs": [],
   "source": [
    "updated_som2 = Self_Organizing_Maps.SOM_train(n_rows, \n",
    "                                              n_cols, \n",
    "                                              max_epochs, \n",
    "                                              max_learning_rate, \n",
    "                                              max_distance, \n",
    "                                              train_x, \n",
    "                                              train_y, \n",
    "                                              learn='linear', \n",
    "                                              neigh='gaussian', \n",
    "                                              metric='euclidian')"
   ]
  },
  {
   "cell_type": "code",
   "execution_count": null,
   "id": "7fe0a3ad",
   "metadata": {},
   "outputs": [],
   "source": [
    "label_map2 = Self_Organizing_Maps.Cortex_map(train_y, \n",
    "                                             train_x, \n",
    "                                             updated_som2,\n",
    "                                             max_epochs, \n",
    "                                             metric='euclidian')"
   ]
  },
  {
   "cell_type": "code",
   "execution_count": null,
   "id": "b1e1324a",
   "metadata": {},
   "outputs": [],
   "source": [
    "index2 = Self_Organizing_Maps.SOM_class(test_x, \n",
    "                                        updated_som2, \n",
    "                                        label_map2, \n",
    "                                        metric='euclidian')"
   ]
  },
  {
   "cell_type": "code",
   "execution_count": null,
   "id": "994f2330",
   "metadata": {},
   "outputs": [],
   "source": [
    "Self_Organizing_Maps.Crossplot(index2, test_x, 0, 1)"
   ]
  },
  {
   "cell_type": "code",
   "execution_count": null,
   "id": "f8de5d33",
   "metadata": {},
   "outputs": [],
   "source": [
    "conf_matrix = confusion_matrix(test_y, index2)\n",
    "vis = ConfusionMatrixDisplay(confusion_matrix=conf_matrix) #, display_labels=ind)\n",
    "vis.plot(cmap='inferno')\n",
    "plt.title('Confusion Matrix')\n",
    "plt.show()"
   ]
  },
  {
   "cell_type": "markdown",
   "id": "be9295e8",
   "metadata": {},
   "source": [
    "#### SOM with Manhattan metric and linear neighborhood:"
   ]
  },
  {
   "cell_type": "code",
   "execution_count": null,
   "id": "ebad0390",
   "metadata": {},
   "outputs": [],
   "source": [
    "updated_som3 = Self_Organizing_Maps.SOM_train(n_rows, \n",
    "                                              n_cols, \n",
    "                                              max_epochs, \n",
    "                                              max_learning_rate, \n",
    "                                              max_distance, \n",
    "                                              train_x, \n",
    "                                              train_y, \n",
    "                                              learn='linear', \n",
    "                                              neigh='linear', \n",
    "                                              metric='manhattan')"
   ]
  },
  {
   "cell_type": "code",
   "execution_count": null,
   "id": "dfdafdea",
   "metadata": {},
   "outputs": [],
   "source": [
    "label_map3 = Self_Organizing_Maps.Cortex_map(train_y, \n",
    "                                             train_x, \n",
    "                                             updated_som3,\n",
    "                                             max_epochs, \n",
    "                                             metric='manhattan')"
   ]
  },
  {
   "cell_type": "code",
   "execution_count": null,
   "id": "f0f2aa12",
   "metadata": {},
   "outputs": [],
   "source": [
    "index3 = Self_Organizing_Maps.SOM_class(test_x, \n",
    "                                        updated_som3, \n",
    "                                        label_map3, \n",
    "                                        metric='manhattan')"
   ]
  },
  {
   "cell_type": "code",
   "execution_count": null,
   "id": "082fc8ed",
   "metadata": {},
   "outputs": [],
   "source": [
    "Self_Organizing_Maps.Crossplot(index3, test_x, 0, 1)"
   ]
  },
  {
   "cell_type": "code",
   "execution_count": null,
   "id": "d55829d6",
   "metadata": {},
   "outputs": [],
   "source": [
    "conf_matrix = confusion_matrix(test_y, index3)\n",
    "vis = ConfusionMatrixDisplay(confusion_matrix=conf_matrix) #, display_labels=ind)\n",
    "vis.plot(cmap='inferno')\n",
    "plt.title('Confusion Matrix')\n",
    "plt.show()"
   ]
  },
  {
   "cell_type": "code",
   "execution_count": null,
   "id": "fb6e82da",
   "metadata": {},
   "outputs": [],
   "source": []
  },
  {
   "cell_type": "markdown",
   "id": "a526228f",
   "metadata": {},
   "source": [
    "## Loading of well-log 2 for classification:"
   ]
  },
  {
   "cell_type": "code",
   "execution_count": null,
   "id": "c00f2586",
   "metadata": {},
   "outputs": [],
   "source": [
    "cab = ['prof','rhob', 'gr', 'dt']\n",
    "data_2 = pd.read_csv('arq4_09-05.txt', sep='\\s+',\n",
    "                     skiprows=1, names = cab, usecols=(0,1,2,3) )"
   ]
  },
  {
   "cell_type": "code",
   "execution_count": null,
   "id": "52bfb164",
   "metadata": {},
   "outputs": [],
   "source": [
    "data_class = np.zeros((len(data_2), 3))\n",
    "data_class.shape"
   ]
  },
  {
   "cell_type": "code",
   "execution_count": null,
   "id": "c99d6dc9",
   "metadata": {},
   "outputs": [],
   "source": [
    "### Data normalization:\n",
    "\n",
    "data_class[:,0] = Self_Organizing_Maps.norm_data(data_2['rhob'])\n",
    "data_class[:,1] = Self_Organizing_Maps.norm_data(data_2['gr'])\n",
    "data_class[:,2] = Self_Organizing_Maps.norm_data(data_2['dt'])\n",
    "data_class"
   ]
  },
  {
   "cell_type": "markdown",
   "id": "87dc791e",
   "metadata": {},
   "source": [
    "#### Using Cortex from the training step:"
   ]
  },
  {
   "cell_type": "code",
   "execution_count": null,
   "id": "87a59a19",
   "metadata": {},
   "outputs": [],
   "source": [
    "index = Self_Organizing_Maps.SOM_class(data_class, \n",
    "                                        updated_som2, \n",
    "                                        label_map2, \n",
    "                                        metric='euclidian')"
   ]
  },
  {
   "cell_type": "code",
   "execution_count": null,
   "id": "babeb53e",
   "metadata": {},
   "outputs": [],
   "source": [
    "Self_Organizing_Maps.Crossplot(index, data_class, 0, 1)"
   ]
  },
  {
   "cell_type": "code",
   "execution_count": null,
   "id": "8931899f",
   "metadata": {},
   "outputs": [],
   "source": []
  },
  {
   "cell_type": "markdown",
   "id": "92d844f8",
   "metadata": {},
   "source": [
    "### Image with the original groups formed by synthetic data modeling for comparison!\n",
    "\n",
    "##### -> different colors but the formed groups are similar!\n",
    "\n",
    "##### -> plot below is not normalized!"
   ]
  },
  {
   "cell_type": "code",
   "execution_count": null,
   "id": "488fdb1c",
   "metadata": {},
   "outputs": [],
   "source": [
    "from PIL import Image\n",
    "\n",
    "image = Image.open('RHOxGR_p2originaldisper_09-05.png')"
   ]
  },
  {
   "cell_type": "code",
   "execution_count": null,
   "id": "22bc9aa3",
   "metadata": {},
   "outputs": [],
   "source": [
    "image"
   ]
  },
  {
   "cell_type": "markdown",
   "id": "474e121b",
   "metadata": {},
   "source": [
    "### END"
   ]
  },
  {
   "cell_type": "code",
   "execution_count": null,
   "id": "266a88d2",
   "metadata": {},
   "outputs": [],
   "source": []
  }
 ],
 "metadata": {
  "kernelspec": {
   "display_name": "Python 3 (ipykernel)",
   "language": "python",
   "name": "python3"
  },
  "language_info": {
   "codemirror_mode": {
    "name": "ipython",
    "version": 3
   },
   "file_extension": ".py",
   "mimetype": "text/x-python",
   "name": "python",
   "nbconvert_exporter": "python",
   "pygments_lexer": "ipython3",
   "version": "3.10.9"
  }
 },
 "nbformat": 4,
 "nbformat_minor": 5
}
